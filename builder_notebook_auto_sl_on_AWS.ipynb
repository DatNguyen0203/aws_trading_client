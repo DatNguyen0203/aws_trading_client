{
 "cells": [
  {
   "cell_type": "markdown",
   "id": "a5599829",
   "metadata": {},
   "source": [
    "# System Design\n",
    "\n",
    "Working steps:\n",
    "- Step 1: AWS server getting data from the exchange, either through active monitoring or using a third-party price alert service --> have to compare the reliability, quality and cost of each option.\n",
    "- Step 2: AWS server logic will decide what to do with the data recieved\n",
    "- Step 3: If there is action to perform, AWS server will make an API call to Binance\n",
    "\n",
    "Step 1:\n",
    "- Comparing options: \n",
    "   - TradingView Alert: cost: 12.95 per month or 155.4 per year, cannot set it up with API call --> will not be useful when I develop higher frequency trading strategies later --> PURGED\n",
    "   - High probability that other 3rd-party options will not be cost-effective and meet my configuration requirements\n",
    "- Decide to directly query Binance data from my AWS server:\n",
    "   - For each active position, can adjust query frequency based on price action. Example: price moving closer to SL point, increase query frequency\n",
    "- Setup Git to develop from afar with AWS\n",
    "   - Cannot clone everything from my macquy to Github and then to AWS because it will leak secret keys to access my exchange accounts\n",
    "   - Only clone and sync the aws_client directory and the directory that contains the necessary python modules like order module, general monitoring module\n",
    "   - So have to put all the python modules in a separate directory DONE\n",
    "   - And then have to fix the code of the script I am using to point to the common module directory DONE\n",
    "\n",
    "\n"
   ]
  },
  {
   "cell_type": "code",
   "execution_count": null,
   "id": "43dc22a9",
   "metadata": {},
   "outputs": [],
   "source": []
  }
 ],
 "metadata": {
  "kernelspec": {
   "display_name": "Python 3 (ipykernel)",
   "language": "python",
   "name": "python3"
  },
  "language_info": {
   "codemirror_mode": {
    "name": "ipython",
    "version": 3
   },
   "file_extension": ".py",
   "mimetype": "text/x-python",
   "name": "python",
   "nbconvert_exporter": "python",
   "pygments_lexer": "ipython3",
   "version": "3.8.8"
  }
 },
 "nbformat": 4,
 "nbformat_minor": 5
}
